{
 "cells": [
  {
   "cell_type": "code",
   "execution_count": null,
   "metadata": {},
   "outputs": [],
   "source": [
    "# Install SeaQuBe"
   ]
  },
  {
   "cell_type": "code",
   "execution_count": null,
   "metadata": {},
   "outputs": [],
   "source": [
    "pip install seaqube"
   ]
  },
  {
   "cell_type": "code",
   "execution_count": null,
   "metadata": {},
   "outputs": [],
   "source": [
    "## Import Augmentation class of the package"
   ]
  },
  {
   "cell_type": "code",
   "execution_count": null,
   "metadata": {
    "scrolled": true
   },
   "outputs": [],
   "source": [
    " # Import all Augmentation methods\n",
    "from seaqube.augmentation.word import Active2PassiveAugmentation, EDAAugmentation, TranslationAugmentation, EmbeddingAugmentation\n",
    "from seaqube.augmentation.char import QwertyAugmentation\n",
    "from seaqube.augmentation.corpus import UnigramAugmentation\n"
   ]
  },
  {
   "cell_type": "code",
   "execution_count": null,
   "metadata": {},
   "outputs": [],
   "source": [
    "# import some tools\n",
    "from seaqube.tools.io import load_json\n",
    "from os.path import join"
   ]
  },
  {
   "cell_type": "code",
   "execution_count": null,
   "metadata": {},
   "outputs": [],
   "source": [
    "# load example data\n",
    "import json,urllib.request\n",
    "data = urllib.request.urlopen(\"https://raw.githubusercontent.com/bees4ever/SeaQuBe/master/examples/sick_full_corpus.json\").read()\n",
    "\n",
    "corpus = json.loads(data)\n",
    "text = 'The quick brown fox jumps over the lazy dog .'\n",
    "\n"
   ]
  },
  {
   "cell_type": "markdown",
   "metadata": {},
   "source": [
    "## Set Up all augmentations"
   ]
  },
  {
   "cell_type": "code",
   "execution_count": null,
   "metadata": {},
   "outputs": [],
   "source": [
    "# a (experimental) active to passive voice transformer. Only one sentences / doc to another\n",
    "a2p = Active2PassiveAugmentation()"
   ]
  },
  {
   "cell_type": "code",
   "execution_count": null,
   "metadata": {},
   "outputs": [],
   "source": [
    "# easy-data augmentation method implementation (random word swap, insertion, deletion and replacement with synonyms)\n",
    "eda = EDAAugmentation(max_length=2)"
   ]
  },
  {
   "cell_type": "code",
   "execution_count": null,
   "metadata": {},
   "outputs": [],
   "source": [
    "# translate text to other language and back (with Google Translater)\n",
    "translate = TranslationAugmentation(max_length=2)"
   ]
  },
  {
   "cell_type": "code",
   "execution_count": null,
   "metadata": {},
   "outputs": [],
   "source": [
    "# replace words by a similiar one using another word embedding\n",
    "embed = EmbeddingAugmentation(max_length=2)"
   ]
  },
  {
   "cell_type": "code",
   "execution_count": null,
   "metadata": {},
   "outputs": [],
   "source": [
    "# insert typos on text based on a qwerty-keyboard\n",
    "qwerty = QwertyAugmentation(replace_rate=0.07, max_length=2)"
   ]
  },
  {
   "cell_type": "code",
   "execution_count": null,
   "metadata": {},
   "outputs": [],
   "source": [
    "# based on the UDA algorithm, only the Unigram method, which replace low meaning full words with other low meaning full words\n",
    "# this method needs a corpus, because it need to detect low meaningfull words\n",
    "unigram = UnigramAugmentation(corpus=corpus, max_length=2)"
   ]
  },
  {
   "cell_type": "markdown",
   "metadata": {},
   "source": [
    "### API - Usage\n",
    "**Every augmentation object have the same possibility**"
   ]
  },
  {
   "cell_type": "code",
   "execution_count": null,
   "metadata": {},
   "outputs": [],
   "source": [
    "# 1. augmenting a string - same syntax as NLPAUG (https://github.com/makcedward/nlpaug)\n",
    "print(qwerty.augment(text))\n",
    "# or\n",
    "print(translate.augment(text))\n"
   ]
  },
  {
   "cell_type": "code",
   "execution_count": null,
   "metadata": {},
   "outputs": [],
   "source": [
    "# 2. augmenting a doc (token based text)\n",
    "print(unigram.doc_augment(doc=corpus[0]))\n",
    "# doc_augment can also handle text:\n",
    "print(embed.doc_augment(text=text))\n"
   ]
  },
  {
   "cell_type": "code",
   "execution_count": null,
   "metadata": {},
   "outputs": [],
   "source": [
    "# 3. augmenting a whole corpus\n",
    "print(eda(corpus[0:200]))\n"
   ]
  },
  {
   "cell_type": "code",
   "execution_count": null,
   "metadata": {},
   "outputs": [],
   "source": [
    "# 4. Active2Passive is still experimental:\n",
    "a2p.doc_augment(doc=['someone', 'is', 'not', 'reading', 'the', 'email'])\n"
   ]
  }
 ],
 "metadata": {
  "kernelspec": {
   "display_name": "Python 3",
   "language": "python",
   "name": "python3"
  },
  "language_info": {
   "codemirror_mode": {
    "name": "ipython",
    "version": 3
   },
   "file_extension": ".py",
   "mimetype": "text/x-python",
   "name": "python",
   "nbconvert_exporter": "python",
   "pygments_lexer": "ipython3",
   "version": "3.7.9"
  }
 },
 "nbformat": 4,
 "nbformat_minor": 4
}
