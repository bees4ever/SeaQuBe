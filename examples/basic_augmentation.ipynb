{
 "cells": [
  {
   "cell_type": "code",
   "execution_count": null,
   "metadata": {},
   "outputs": [],
   "source": [
    "# Install SeaQuBe"
   ]
  },
  {
   "cell_type": "code",
   "execution_count": 10,
   "metadata": {},
   "outputs": [
    {
     "name": "stdout",
     "output_type": "stream",
     "text": [
      "Collecting seaqube\n",
      "  Downloading seaqube-0.0.9b0-py3-none-any.whl (3.2 MB)\n",
      "\u001b[K     |████████████████████████████████| 3.2 MB 4.5 MB/s eta 0:00:01\n",
      "\u001b[?25hRequirement already satisfied: dill in /Users/allankarlson/.conda/envs/master-thesis/lib/python3.7/site-packages (from seaqube) (0.3.2)\n",
      "Requirement already satisfied: pytest==6.0.2 in /Users/allankarlson/.conda/envs/master-thesis/lib/python3.7/site-packages (from seaqube) (6.0.2)\n",
      "Requirement already satisfied: sklearn in /Users/allankarlson/.conda/envs/master-thesis/lib/python3.7/site-packages (from seaqube) (0.0)\n",
      "Requirement already satisfied: numpy in /Users/allankarlson/.conda/envs/master-thesis/lib/python3.7/site-packages (from seaqube) (1.19.2)\n",
      "Requirement already satisfied: pyinflect==0.5.1 in /Users/allankarlson/.conda/envs/master-thesis/lib/python3.7/site-packages (from seaqube) (0.5.1)\n",
      "Requirement already satisfied: gensim in /Users/allankarlson/.conda/envs/master-thesis/lib/python3.7/site-packages (from seaqube) (3.8.3)\n",
      "Requirement already satisfied: scipy in /Users/allankarlson/.conda/envs/master-thesis/lib/python3.7/site-packages (from seaqube) (1.5.2)\n",
      "Requirement already satisfied: spacy==2.3.2 in /Users/allankarlson/.conda/envs/master-thesis/lib/python3.7/site-packages (from seaqube) (2.3.2)\n",
      "Requirement already satisfied: pandas in /Users/allankarlson/.conda/envs/master-thesis/lib/python3.7/site-packages (from seaqube) (1.1.2)\n",
      "Requirement already satisfied: schedule in /Users/allankarlson/.conda/envs/master-thesis/lib/python3.7/site-packages (from seaqube) (0.6.0)\n",
      "Requirement already satisfied: pathos==0.2.6 in /Users/allankarlson/.conda/envs/master-thesis/lib/python3.7/site-packages (from seaqube) (0.2.6)\n",
      "Requirement already satisfied: scikit-learn in /Users/allankarlson/.conda/envs/master-thesis/lib/python3.7/site-packages (from seaqube) (0.23.2)\n",
      "Requirement already satisfied: nltk==3.5 in /Users/allankarlson/.conda/envs/master-thesis/lib/python3.7/site-packages (from seaqube) (3.5)\n",
      "Requirement already satisfied: progressbar2 in /Users/allankarlson/.conda/envs/master-thesis/lib/python3.7/site-packages (from seaqube) (3.53.1)\n",
      "Requirement already satisfied: tqdm in /Users/allankarlson/.conda/envs/master-thesis/lib/python3.7/site-packages (from seaqube) (4.49.0)\n",
      "Requirement already satisfied: googletrans==3.0.0 in /Users/allankarlson/.conda/envs/master-thesis/lib/python3.7/site-packages (from seaqube) (3.0.0)\n",
      "Requirement already satisfied: packaging in /Users/allankarlson/.conda/envs/master-thesis/lib/python3.7/site-packages (from pytest==6.0.2->seaqube) (20.4)\n",
      "Requirement already satisfied: iniconfig in /Users/allankarlson/.conda/envs/master-thesis/lib/python3.7/site-packages (from pytest==6.0.2->seaqube) (1.0.1)\n",
      "Requirement already satisfied: toml in /Users/allankarlson/.conda/envs/master-thesis/lib/python3.7/site-packages (from pytest==6.0.2->seaqube) (0.10.1)\n",
      "Requirement already satisfied: py>=1.8.2 in /Users/allankarlson/.conda/envs/master-thesis/lib/python3.7/site-packages (from pytest==6.0.2->seaqube) (1.9.0)\n",
      "Requirement already satisfied: importlib-metadata>=0.12; python_version < \"3.8\" in /Users/allankarlson/.conda/envs/master-thesis/lib/python3.7/site-packages (from pytest==6.0.2->seaqube) (1.7.0)\n",
      "Requirement already satisfied: attrs>=17.4.0 in /Users/allankarlson/.conda/envs/master-thesis/lib/python3.7/site-packages (from pytest==6.0.2->seaqube) (20.2.0)\n",
      "Requirement already satisfied: more-itertools>=4.0.0 in /Users/allankarlson/.conda/envs/master-thesis/lib/python3.7/site-packages (from pytest==6.0.2->seaqube) (8.5.0)\n",
      "Requirement already satisfied: pluggy<1.0,>=0.12 in /Users/allankarlson/.conda/envs/master-thesis/lib/python3.7/site-packages (from pytest==6.0.2->seaqube) (0.13.1)\n",
      "Requirement already satisfied: smart-open>=1.8.1 in /Users/allankarlson/.conda/envs/master-thesis/lib/python3.7/site-packages (from gensim->seaqube) (2.1.1)\n",
      "Requirement already satisfied: six>=1.5.0 in /Users/allankarlson/.conda/envs/master-thesis/lib/python3.7/site-packages (from gensim->seaqube) (1.15.0)\n",
      "Requirement already satisfied: preshed<3.1.0,>=3.0.2 in /Users/allankarlson/.conda/envs/master-thesis/lib/python3.7/site-packages (from spacy==2.3.2->seaqube) (3.0.2)\n",
      "Requirement already satisfied: srsly<1.1.0,>=1.0.2 in /Users/allankarlson/.conda/envs/master-thesis/lib/python3.7/site-packages (from spacy==2.3.2->seaqube) (1.0.2)\n",
      "Requirement already satisfied: requests<3.0.0,>=2.13.0 in /Users/allankarlson/.conda/envs/master-thesis/lib/python3.7/site-packages (from spacy==2.3.2->seaqube) (2.24.0)\n",
      "Requirement already satisfied: setuptools in /Users/allankarlson/.conda/envs/master-thesis/lib/python3.7/site-packages (from spacy==2.3.2->seaqube) (49.6.0.post20200814)\n",
      "Requirement already satisfied: cymem<2.1.0,>=2.0.2 in /Users/allankarlson/.conda/envs/master-thesis/lib/python3.7/site-packages (from spacy==2.3.2->seaqube) (2.0.3)\n",
      "Requirement already satisfied: wasabi<1.1.0,>=0.4.0 in /Users/allankarlson/.conda/envs/master-thesis/lib/python3.7/site-packages (from spacy==2.3.2->seaqube) (0.8.0)\n",
      "Requirement already satisfied: thinc==7.4.1 in /Users/allankarlson/.conda/envs/master-thesis/lib/python3.7/site-packages (from spacy==2.3.2->seaqube) (7.4.1)\n",
      "Requirement already satisfied: catalogue<1.1.0,>=0.0.7 in /Users/allankarlson/.conda/envs/master-thesis/lib/python3.7/site-packages (from spacy==2.3.2->seaqube) (1.0.0)\n",
      "Requirement already satisfied: blis<0.5.0,>=0.4.0 in /Users/allankarlson/.conda/envs/master-thesis/lib/python3.7/site-packages (from spacy==2.3.2->seaqube) (0.4.1)\n",
      "Requirement already satisfied: murmurhash<1.1.0,>=0.28.0 in /Users/allankarlson/.conda/envs/master-thesis/lib/python3.7/site-packages (from spacy==2.3.2->seaqube) (1.0.2)\n",
      "Requirement already satisfied: plac<1.2.0,>=0.9.6 in /Users/allankarlson/.conda/envs/master-thesis/lib/python3.7/site-packages (from spacy==2.3.2->seaqube) (1.1.3)\n",
      "Requirement already satisfied: pytz>=2017.2 in /Users/allankarlson/.conda/envs/master-thesis/lib/python3.7/site-packages (from pandas->seaqube) (2020.1)\n",
      "Requirement already satisfied: python-dateutil>=2.7.3 in /Users/allankarlson/.conda/envs/master-thesis/lib/python3.7/site-packages (from pandas->seaqube) (2.8.1)\n",
      "Requirement already satisfied: pox>=0.2.8 in /Users/allankarlson/.conda/envs/master-thesis/lib/python3.7/site-packages (from pathos==0.2.6->seaqube) (0.2.8)\n",
      "Requirement already satisfied: ppft>=1.6.6.2 in /Users/allankarlson/.conda/envs/master-thesis/lib/python3.7/site-packages (from pathos==0.2.6->seaqube) (1.6.6.2)\n",
      "Requirement already satisfied: multiprocess>=0.70.10 in /Users/allankarlson/.conda/envs/master-thesis/lib/python3.7/site-packages (from pathos==0.2.6->seaqube) (0.70.10)\n",
      "Requirement already satisfied: joblib>=0.11 in /Users/allankarlson/.conda/envs/master-thesis/lib/python3.7/site-packages (from scikit-learn->seaqube) (0.16.0)\n",
      "Requirement already satisfied: threadpoolctl>=2.0.0 in /Users/allankarlson/.conda/envs/master-thesis/lib/python3.7/site-packages (from scikit-learn->seaqube) (2.1.0)\n",
      "Requirement already satisfied: click in /Users/allankarlson/.conda/envs/master-thesis/lib/python3.7/site-packages (from nltk==3.5->seaqube) (7.1.2)\n",
      "Requirement already satisfied: regex in /Users/allankarlson/.conda/envs/master-thesis/lib/python3.7/site-packages (from nltk==3.5->seaqube) (2020.7.14)\n",
      "Requirement already satisfied: python-utils>=2.3.0 in /Users/allankarlson/.conda/envs/master-thesis/lib/python3.7/site-packages (from progressbar2->seaqube) (2.4.0)\n",
      "Requirement already satisfied: httpx==0.13.3 in /Users/allankarlson/.conda/envs/master-thesis/lib/python3.7/site-packages (from googletrans==3.0.0->seaqube) (0.13.3)\n",
      "Requirement already satisfied: pyparsing>=2.0.2 in /Users/allankarlson/.conda/envs/master-thesis/lib/python3.7/site-packages (from packaging->pytest==6.0.2->seaqube) (2.4.7)\n",
      "Requirement already satisfied: zipp>=0.5 in /Users/allankarlson/.conda/envs/master-thesis/lib/python3.7/site-packages (from importlib-metadata>=0.12; python_version < \"3.8\"->pytest==6.0.2->seaqube) (3.1.0)\n",
      "Requirement already satisfied: boto3 in /Users/allankarlson/.conda/envs/master-thesis/lib/python3.7/site-packages (from smart-open>=1.8.1->gensim->seaqube) (1.14.61)\n",
      "Requirement already satisfied: boto in /Users/allankarlson/.conda/envs/master-thesis/lib/python3.7/site-packages (from smart-open>=1.8.1->gensim->seaqube) (2.49.0)\n",
      "Requirement already satisfied: certifi>=2017.4.17 in /Users/allankarlson/.conda/envs/master-thesis/lib/python3.7/site-packages (from requests<3.0.0,>=2.13.0->spacy==2.3.2->seaqube) (2020.6.20)\n",
      "Requirement already satisfied: urllib3!=1.25.0,!=1.25.1,<1.26,>=1.21.1 in /Users/allankarlson/.conda/envs/master-thesis/lib/python3.7/site-packages (from requests<3.0.0,>=2.13.0->spacy==2.3.2->seaqube) (1.25.10)\n",
      "Requirement already satisfied: idna<3,>=2.5 in /Users/allankarlson/.conda/envs/master-thesis/lib/python3.7/site-packages (from requests<3.0.0,>=2.13.0->spacy==2.3.2->seaqube) (2.10)\n",
      "Requirement already satisfied: chardet<4,>=3.0.2 in /Users/allankarlson/.conda/envs/master-thesis/lib/python3.7/site-packages (from requests<3.0.0,>=2.13.0->spacy==2.3.2->seaqube) (3.0.4)\n",
      "Requirement already satisfied: hstspreload in /Users/allankarlson/.conda/envs/master-thesis/lib/python3.7/site-packages (from httpx==0.13.3->googletrans==3.0.0->seaqube) (2020.9.15)\n",
      "Requirement already satisfied: rfc3986<2,>=1.3 in /Users/allankarlson/.conda/envs/master-thesis/lib/python3.7/site-packages (from httpx==0.13.3->googletrans==3.0.0->seaqube) (1.4.0)\n",
      "Requirement already satisfied: sniffio in /Users/allankarlson/.conda/envs/master-thesis/lib/python3.7/site-packages (from httpx==0.13.3->googletrans==3.0.0->seaqube) (1.1.0)\n",
      "Requirement already satisfied: httpcore==0.9.* in /Users/allankarlson/.conda/envs/master-thesis/lib/python3.7/site-packages (from httpx==0.13.3->googletrans==3.0.0->seaqube) (0.9.1)\n"
     ]
    },
    {
     "name": "stdout",
     "output_type": "stream",
     "text": [
      "Requirement already satisfied: botocore<1.18.0,>=1.17.61 in /Users/allankarlson/.conda/envs/master-thesis/lib/python3.7/site-packages (from boto3->smart-open>=1.8.1->gensim->seaqube) (1.17.61)\n",
      "Requirement already satisfied: s3transfer<0.4.0,>=0.3.0 in /Users/allankarlson/.conda/envs/master-thesis/lib/python3.7/site-packages (from boto3->smart-open>=1.8.1->gensim->seaqube) (0.3.3)\n",
      "Requirement already satisfied: jmespath<1.0.0,>=0.7.1 in /Users/allankarlson/.conda/envs/master-thesis/lib/python3.7/site-packages (from boto3->smart-open>=1.8.1->gensim->seaqube) (0.10.0)\n",
      "Requirement already satisfied: h11<0.10,>=0.8 in /Users/allankarlson/.conda/envs/master-thesis/lib/python3.7/site-packages (from httpcore==0.9.*->httpx==0.13.3->googletrans==3.0.0->seaqube) (0.9.0)\n",
      "Requirement already satisfied: h2==3.* in /Users/allankarlson/.conda/envs/master-thesis/lib/python3.7/site-packages (from httpcore==0.9.*->httpx==0.13.3->googletrans==3.0.0->seaqube) (3.2.0)\n",
      "Requirement already satisfied: docutils<0.16,>=0.10 in /Users/allankarlson/.conda/envs/master-thesis/lib/python3.7/site-packages (from botocore<1.18.0,>=1.17.61->boto3->smart-open>=1.8.1->gensim->seaqube) (0.15.2)\n",
      "Requirement already satisfied: hyperframe<6,>=5.2.0 in /Users/allankarlson/.conda/envs/master-thesis/lib/python3.7/site-packages (from h2==3.*->httpcore==0.9.*->httpx==0.13.3->googletrans==3.0.0->seaqube) (5.2.0)\n",
      "Requirement already satisfied: hpack<4,>=3.0 in /Users/allankarlson/.conda/envs/master-thesis/lib/python3.7/site-packages (from h2==3.*->httpcore==0.9.*->httpx==0.13.3->googletrans==3.0.0->seaqube) (3.0.0)\n",
      "Installing collected packages: seaqube\n",
      "Successfully installed seaqube-0.0.9b0\n",
      "Note: you may need to restart the kernel to use updated packages.\n"
     ]
    }
   ],
   "source": [
    "pip install seaqube"
   ]
  },
  {
   "cell_type": "code",
   "execution_count": null,
   "metadata": {},
   "outputs": [],
   "source": [
    "## Import Augmentation class of the package"
   ]
  },
  {
   "cell_type": "code",
   "execution_count": 1,
   "metadata": {
    "scrolled": true
   },
   "outputs": [],
   "source": [
    " # Import all Augmentation methods\n",
    "from seaqube.augmentation.word import Active2PassiveAugmentation, EDAAugmentation, TranslationAugmentation, EmbeddingAugmentation\n",
    "from seaqube.augmentation.char import QwertyAugmentation\n",
    "from seaqube.augmentation.corpus import UnigramAugmentation\n"
   ]
  },
  {
   "cell_type": "code",
   "execution_count": 2,
   "metadata": {},
   "outputs": [],
   "source": [
    "# import some tools\n",
    "from seaqube.tools.io import load_json\n",
    "from os.path import join"
   ]
  },
  {
   "cell_type": "markdown",
   "metadata": {},
   "source": [
    "*We need some infos where this notebook is*"
   ]
  },
  {
   "cell_type": "code",
   "execution_count": null,
   "metadata": {},
   "outputs": [],
   "source": [
    "pwd"
   ]
  },
  {
   "cell_type": "code",
   "execution_count": 4,
   "metadata": {},
   "outputs": [],
   "source": [
    "# insert `pwd` output here\n",
    "main_path = ''"
   ]
  },
  {
   "cell_type": "code",
   "execution_count": 5,
   "metadata": {},
   "outputs": [],
   "source": [
    "text = 'The quick brown fox jumps over the lazy dog .'\n",
    "corpus = load_json(join(main_path, \"sick_full_corpus.json\"))"
   ]
  },
  {
   "cell_type": "markdown",
   "metadata": {},
   "source": [
    "## Set Up all augmentations"
   ]
  },
  {
   "cell_type": "code",
   "execution_count": 6,
   "metadata": {},
   "outputs": [],
   "source": [
    "# a (experimental) active to passive voice transformer. Only one sentences / doc to another\n",
    "a2p = Active2PassiveAugmentation()"
   ]
  },
  {
   "cell_type": "code",
   "execution_count": 7,
   "metadata": {},
   "outputs": [],
   "source": [
    "# easy-data augmentation method implementation (random word swap, insertion, deletion and replacement with synonyms)\n",
    "eda = EDAAugmentation(max_length=2)"
   ]
  },
  {
   "cell_type": "code",
   "execution_count": 8,
   "metadata": {},
   "outputs": [],
   "source": [
    "# translate text to other language and back (with Google Translater)\n",
    "translate = TranslationAugmentation(max_length=2)"
   ]
  },
  {
   "cell_type": "code",
   "execution_count": 9,
   "metadata": {},
   "outputs": [],
   "source": [
    "# replace words by a similiar one using another word embedding\n",
    "embed = EmbeddingAugmentation(max_length=2)"
   ]
  },
  {
   "cell_type": "code",
   "execution_count": 10,
   "metadata": {},
   "outputs": [],
   "source": [
    "# insert typos on text based on a qwerty-keyboard\n",
    "qwerty = QwertyAugmentation(replace_rate=0.07, max_length=2)"
   ]
  },
  {
   "cell_type": "code",
   "execution_count": 11,
   "metadata": {},
   "outputs": [],
   "source": [
    "# based on the UDA algorithm, only the Unigram method, which replace low meaning full words with other low meaning full words\n",
    "# this method needs a corpus, because it need to detect low meaningfull words\n",
    "unigram = UnigramAugmentation(corpus=corpus, max_length=2)"
   ]
  },
  {
   "cell_type": "markdown",
   "metadata": {},
   "source": [
    "### API - Usage\n",
    "**Every augmentation object have the same possibility**"
   ]
  },
  {
   "cell_type": "code",
   "execution_count": 12,
   "metadata": {},
   "outputs": [
    {
     "name": "stderr",
     "output_type": "stream",
     "text": [
      "100% (1 of 1) |##########################| Elapsed Time: 0:00:00 Time:  0:00:00\n",
      "100% (1 of 1) |##########################| Elapsed Time: 0:00:00 Time:  0:00:00\n"
     ]
    },
    {
     "name": "stdout",
     "output_type": "stream",
     "text": [
      "['the quic< brown fox jumps over the laDy dog.', 'the quick brown fox Uumps over the lazy dog.']\n"
     ]
    },
    {
     "name": "stderr",
     "output_type": "stream",
     "text": [
      "100% (1 of 1) |##########################| Elapsed Time: 0:00:00 Time:  0:00:00\n",
      "100% (1 of 1) |##########################| Elapsed Time: 0:00:00 Time:  0:00:00\n",
      "100% (1 of 1) |##########################| Elapsed Time: 0:00:00 Time:  0:00:00\n",
      "100% (1 of 1) |##########################| Elapsed Time: 0:00:00 Time:  0:00:00\n",
      "100% (1 of 1) |##########################| Elapsed Time: 0:00:00 Time:  0:00:00\n",
      "100% (1 of 1) |##########################| Elapsed Time: 0:00:00 Time:  0:00:00\n",
      "100% (1 of 1) |##########################| Elapsed Time: 0:00:00 Time:  0:00:00\n",
      "100% (1 of 1) |##########################| Elapsed Time: 0:00:00 Time:  0:00:00\n"
     ]
    },
    {
     "name": "stdout",
     "output_type": "stream",
     "text": [
      "['the quick brown fox jumps over the lazy dog.', 'the quick brown fox jumps over the lazy dog.', 'the fast brown fox jumps over the lazy dog.', 'the quick brown fox jumps over the lazy dog.', 'a quick brown fox jumps over a lazy dog.', 'the quick brown fox jumps over the lazy dog.', 'the quick brown fox jumps over the lazy dog.', 'the fast brown fox jumps over the lazy dog.']\n"
     ]
    }
   ],
   "source": [
    "# 1. augmenting a string - same syntax as NLPAUG (https://github.com/makcedward/nlpaug)\n",
    "print(qwerty.augment(text))\n",
    "# or\n",
    "print(translate.augment(text))\n"
   ]
  },
  {
   "cell_type": "code",
   "execution_count": 13,
   "metadata": {},
   "outputs": [
    {
     "name": "stdout",
     "output_type": "stream",
     "text": [
      "[['a', 'child', 'is', 'splashing', 'in', 'a', 'pool', 'for', 'children', 'and', 'no', 'other', 'children', 'are', 'playing', 'in', 'the', 'background']]\n",
      "[['the', 'quick', 'brown', 'fox', 'jumps', 'over', 'the', 'lazy', 'dog', '.'], ['the', 'quick', 'brown', 'fox', 'jumps', 'over', 'the', 'lazy', 'dog', 'same']]\n"
     ]
    }
   ],
   "source": [
    "# 2. augmenting a doc (token based text)\n",
    "print(unigram.doc_augment(doc=corpus[0]))\n",
    "# doc_augment can also handle text:\n",
    "print(embed.doc_augment(text=text))\n"
   ]
  },
  {
   "cell_type": "code",
   "execution_count": 14,
   "metadata": {},
   "outputs": [
    {
     "name": "stderr",
     "output_type": "stream",
     "text": [
      " 95% (190 of 200) |####################  | Elapsed Time: 0:00:00 ETA:   0:00:00"
     ]
    },
    {
     "name": "stdout",
     "output_type": "stream",
     "text": [
      "[['a', 'persons', 'is', 'kicking', 'at', 'a', 'monkey', 'glove'], ['a', 'monkey', 'is', 'kicking', 'at', 'a', 'persons', 'glove'], ['there', 'is', 'no', 'man', 'wiping', 'the', 'march', 'of', 'a', 'bowl'], ['there', 'is', 'no', 'man', 'nobelium', 'wiping', 'the', 'edge', 'of', 'a', 'bowl'], ['a', 'young', 'chaff', 'is', 'jumping', 'into', 'water'], ['a', 'kid', 'is', 'jumping', 'into', 'water'], ['a', 'cord', 'is', 'being', 'cost', 'climbed', 'by', 'a', 'man'], ['a', 'cord', 'is', 'climbed', 'by'], ['a', 'is', 'falling', 'horse', 'on', 'a', 'track', 'and', 'laid', 'in', 'the', 'wild'], ['a', 'is', 'falling', 'off', 'a', 'horse', 'on', 'track', 'and', 'is', 'laid', 'in', 'the', 'wild'], ['a', 'white', 'dog', 'is', 'approaching', 'golden', 'dog', 'beach'], ['a', 'white', 'dog', 'is', 'approaching', 'dog', 'iron', 'a', 'golden', 'dog', 'on', 'pebbly', 'beach'], ['people', 'are', 'take', 'the', 'air', 'through', 'a', 'crowd', 'in', 'the', 'street'], ['citizenry', 'are', 'walking', 'through', 'a', 'crowd', 'in', 'the', 'street'], ['a', 'dog', 'with', 'a', 'black', 'is', 'standing', 'water'], ['a', 'dog', 'with', 'a', 'black', 'remain', 'firm', 'coat', 'is', 'standing', 'in', 'shallow', 'water'], ['a', 'boy', 'under', 'an', 'is', 'being', 'held', 'by', 'his', 'father', 'who', 'is', 'wearing', 'coat', 'dyed', 'in', 'blue'], ['boy', 'under', 'is', 'being', 'held', 'by', 'his', 'who', 'is', 'wearing', 'a', 'coat', 'in', 'blue'], ['two', 'large', 'dogs', 'a', 'light', 'colored', 'a', 'and', 'one', 'dark', 'one', 'are', 'running', 'through', 'snowy', 'terrain'], ['two', 'large', 'dogs', 'a', 'light', 'colored', 'unrivaled', 'and', 'a', 'dark', 'unrivaled', 'are', 'running', 'through', 'snowy', 'terrain'], ['a', 'motorcyclist', 'is', 'riding', 'a', 'motorbike', 'dangerously', 'roadway'], ['a', 'motorcyclist', 'is', 'riding', 'a', 'motorcycle', 'dangerously', 'along', 'a', 'roadway'], ['a', 'woman', 'is', 'showing', 'a', 'an', 'to', 'puppy', 'infant'], ['a', 'woman', 'is', 'showing', 'a', 'to', 'an', 'infant'], ['a', 'blue', 'ball', 'is', 'being', 'the', 'by', 'caught', 'dog'], ['a', 'blue', 'ball', 'is', 'being', 'by', 'the', 'dog'], ['lady', 'is', 'standing', 'on', 'the', 'and', 'is', 'school', 'children'], ['a', 'lady', 'is', 'children', 'on', 'the', 'street', 'and', 'is', 'surrounded', 'by', 'school', 'standing'], ['a', 'dog', 'is', 'swimming', 'a', 'lake', 'and', 'the', 'is', 'shining', 'on', 'him'], ['a', 'dog', 'is', 'swimming', 'in', 'a', 'shining', 'and', 'the', 'sun', 'is', 'lake', 'on', 'him'], ['the', 'man', 'with', 'brown', 'hair', 'is', 'wearing', 'sunglasses', 'and', 'is', 'sitting', 'at', 'a', 'table', 'with', 'assume', 'cans', 'adenine', 'of', 'soda', 'and', 'other', 'drinks'], ['the', 'man', 'with', 'brown', 'hair', 'wearing', 'sunglasses', 'and', 'is', 'sitting', 'at', 'a', 'table', 'with', 'cans', 'soda', 'and', 'other', 'drinks'], ['a', 'child', 'for', 'splashing', 'in', 'a', 'pool', 'is', 'children', 'and', 'no', 'other', 'children', 'are', 'playing', 'in', 'the', 'background'], ['a', 'child', 'is', 'splashing', 'in', 'a', 'pool', 'for', 'tike', 'and', 'no', 'other', 'tike', 'are', 'playing', 'in', 'the', 'background'], ['a', 'man', 'is', 'adenine', 'carrying', 'a', 'woman'], ['a', 'man', 'is', 'gestate', 'a', 'woman'], ['a', 'man', 'is', 'putting', 'garlic', 'on', 'some', 'shekels', 'slices'], ['a', 'man', 'is', 'putting', 'ail', 'on', 'some', 'bread', 'slices'], ['cat', 'perched', 'on', 'the', 'isnt', 'looking', 'out', 'the', 'window'], ['the', 'cat', 'perched', 'on', 'the', 'table', 'computerized', 'axial', 'tomography', 'isnt', 'looking', 'out', 'the', 'window'], ['a', 'little', 'cat', 'is', 'drinking', 'fresh', 'milk'], ['a', 'little', 'cat', 'is', 'wassail', 'fresh', 'milk'], ['the', 'a', 'is', 'kick', 'boxing', 'with', 'man', 'trainer'], ['the', 'man', 'is', 'kick', 'boxing', 'with', 'a', 'trainer'], ['black', 'man', 'is', 'walking', 'next', 'a', 'shop', 'big', 'city'], ['a', 'black', 'man', 'city', 'walking', 'next', 'to', 'a', 'shop', 'in', 'a', 'big', 'is'], ['a', 'man', 'is', 'human', 'being', 'pointing', 'at', 'a', 'car'], ['a', 'railway', 'car', 'man', 'is', 'pointing', 'at', 'a', 'car'], ['a', 'group', 'of', 'people', 'are', 'dancing', 'at', 'atomic', 'number', 'a', 'concert'], ['a', 'group', 'of', 'citizenry', 'are', 'dancing', 'at', 'a', 'concert'], ['two', 'sitting', 'are', 'people', 'with', 'laden', 'baskets', 'and', 'blankets'], ['people', 'are', 'sitting', 'with', 'laden', 'baskets', 'and', 'blankets'], ['the', 'picture', 'of', 'a', 'man', 'is', 'being', 'taken', 'nigh', 'a', 'lake'], ['the', 'picture', 'of', 'a', 'man', 'is', 'being', 'taken', 'near', 'a', 'lake'], ['milk', 'drink', 'a', 'kittens', 'is'], ['milk', 'is', 'a', 'kittens', 'kitty', 'drink'], ['a', 'man', 'is', 'stick', 'out', 'into', 'an', 'empty', 'swimming', 'pool'], ['a', 'isle', 'of', 'man', 'is', 'jumping', 'into', 'an', 'empty', 'swimming', 'pool'], ['no', 'the', 'dog', 'is', 'running', 'on', 'little', 'sand'], ['no', 'little', 'dog', 'is', 'running', 'on', 'the', 'sand'], ['the', 'man', 'is', 'doing', 'a', 'on', 'the', 'wet', 'shore', 'at', 'the', 'edge', 'of', 'the', 'at', 'the', 'beach'], ['the', 'is', 'doing', 'on', 'the', 'wet', 'shore', 'at', 'edge', 'of', 'the', 'water', 'at', 'beach'], ['there', 'wooden', 'no', 'man', 'playing', 'a', 'is', 'flute'], ['there', 'is', 'no', 'man', 'playing', 'a', 'wooden', 'flute'], ['a', 'woman', 'is', 'womanhood', 'deboning', 'a', 'fish'], ['a', 'debone', 'woman', 'is', 'deboning', 'a', 'fish'], ['men', 'are', 'sawing'], ['some', 'world', 'are', 'sawing'], ['a', 'dog', 'is', 'running', 'on', 'snow', 'on', 'a', 'very', 'sunny', 'day'], ['a', 'yellow', 'dog', 'a', 'running', 'on', 'white', 'snow', 'on', 'is', 'very', 'sunny', 'day'], ['a', 'man', 'and', 'a', 'woman', 'are', 'a', 'beige', 'room', 'wearing', 'dark', 'colored', 'shirts', 'and', 'a', 'monitor', 'is', 'in', 'the', 'background'], ['a', 'man', 'and', 'a', 'woman', 'are', 'in', 'a', 'beige', 'room', 'shirt', 'wearing', 'dark', 'colored', 'shirts', 'and', 'a', 'monitor', 'board', 'is', 'in', 'the', 'background'], ['a', 'woman', 'in', 'a', 'purple', 'is', 'walking', 'between', 'two', 'stone', 'columns'], ['woman', 'in', 'a', 'purple', 'top', 'is', 'walking', 'a', 'bicycle', 'two', 'stone', 'columns'], ['a', 'human', 'being', 'man', 'is', 'not', 'playing', 'the', 'guitar'], ['a', 'man', 'is', 'dally', 'not', 'playing', 'the', 'guitar'], ['there', 'no', 'white', 'and', 'brown', 'pacing', 'with', 'through', 'the', 'water', 'difficulty'], ['there', 'is', 'no', 'through', 'and', 'brown', 'dog', 'pacing', 'with', 'white', 'the', 'water', 'difficulty'], ['a', 'man', 'is', 'standing', 'beside', 'a', 'large', 'birdcage'], ['a', 'man', 'is', 'standing', 'beside', 'a', 'boastfully', 'and', 'colorful', 'birdcage'], ['a', 'person', 'with', 'hooded', 'jacket', 'and', 'a', 'black', 'is', 'moving', 'a', 'rocky', 'wall'], ['a', 'person', 'with', 'a', 'red', 'hooded', 'jacket', 'and', 'a', 'black', 'backpack', 'is', 'moving', 'near', 'a', 'rocky', 'wall'], ['an', 'onion', 'is', 'being', 'chop'], ['an', 'being', 'is', 'onion', 'chopped'], ['the', 'man', 'is', 'lying', 'naked', 'near', 'a', 'surf'], ['the', 'man', 'is', 'lying', 'naked', 'surf', 'near', 'a', 'surfboard'], ['a', 'happily', 'is', 'toddling', 'baby'], ['a', 'baby', 'is', 'toddling', 'coggle', 'happily'], ['men', 'race', 'running', 'a', 'are'], ['men', 'are', 'running', 'cost', 'a', 'race'], ['a', 'person', 'is', 'drinking', 'orangeness', 'juice', 'and', 'walking'], ['a', 'person', 'is', 'drinking', 'orange', 'walk', 'to', 'juice', 'and', 'walking'], ['a', 'person', 'is', 'shirtless', 'and', 'is', 'putting', 'down', 'the', 'beer'], ['a', 'individual', 'is', 'shirtless', 'and', 'is', 'putting', 'down', 'the', 'beer'], ['some', 'men', 'are', 'man', 'running', 'a', 'race'], ['some', 'range', 'men', 'are', 'running', 'a', 'race'], ['a', 'man', 'human', 'being', 'is', 'dropping', 'the', 'guitar'], ['a', 'man', 'is', 'human', 'being', 'dropping', 'the', 'guitar'], ['a', 'group', 'of', 'people', 'are', 'standing', 'around', 'a', 'sound', 'mixing', 'console'], ['a', 'group', 'of', 'people', 'are', 'standing', 'remain', 'firm', 'around', 'a', 'sound', 'mixing', 'console'], ['the', 'windows', 'are', 'being', 'cost', 'polished', 'by', 'a', 'man'], ['the', 'windows', 'are', 'polished', 'by'], ['a', 'of', 'is', 'grouping', 'a', 'herd', 'sheepdog', 'sheep'], ['a', 'sheepdog', 'is', 'grouping', 'a', 'herd', 'of', 'sheep'], ['the', 'man', 'carelessly', 'smearing', 'butter', 'on', 'a', 'of', 'garlic', 'bread'], ['the', 'gentlemans', 'gentleman', 'is', 'carelessly', 'smearing', 'butter', 'on', 'a', 'slice', 'of', 'garlic', 'bread'], ['a', 'man', 'in', 'jumpy', 'a', 'purple', 'hat', 'isnt', 'climbing', 'a', 'rocky', 'wall', 'with', 'bare', 'hands'], ['a', 'man', 'in', 'a', 'purpleness', 'hat', 'isnt', 'climbing', 'a', 'rocky', 'wall', 'with', 'bare', 'hands'], ['the', 'man', 'is', 'not', 'taking', 'a', 'picture', 'of', 'himself', 'guy'], ['the', 'man', 'is', 'not', 'taking', 'a', 'picture', 'of', 'himself', 'and', 'some', 'other', 'guy'], ['the', 'man', 'cautiously', 'is', 'operating', 'a', 'stenograph'], ['the', 'serviceman', 'is', 'cautiously', 'operating', 'a', 'stenograph'], ['four', 'people', 'are', 'walking', 'on', 'a', 'bridge', 'over', 'a', 'body', 'of', 'water'], ['tetrad', 'people', 'are', 'walking', 'on', 'a', 'bridge', 'over', 'a', 'body', 'of', 'water'], ['someone', 'is', 'stirring', 'noggin', 'in', 'the', 'water'], ['someone', 'stirring', 'noodles', 'in', 'the', 'water'], ['people', 'are', 'paddling', 'near', 'a', 'raft', 'that', 'is', 'being', 'ridden'], ['mass', 'are', 'paddling', 'near', 'a', 'raft', 'that', 'is', 'being', 'ridden'], ['grass', 'is', 'being', 'cost', 'mowed', 'by', 'a', 'man'], ['grass', 'human', 'being', 'is', 'being', 'mowed', 'by', 'a', 'man'], ['there', 'no', 'lady', 'walking', 'in', 'paint', 'in', 'front', 'of', 'a', 'crowd'], ['there', 'is', 'no', 'front', 'walking', 'in', 'body', 'paint', 'in', 'lady', 'of', 'a', 'crowd'], ['a', 'pencil', 'is', 'being', 'taper'], ['a', 'being', 'is', 'pencil', 'sharpened'], ['the', 'children', 'are', 'playing', 'in', 'front', 'of', 'a', 'large', 'door'], ['the', 'children', 'are', 'playing', 'in', 'front', 'man', 'of', 'a', 'large', 'door'], ['a', 'man', 'is', 'pouring', 'a', 'home', 'base', 'of', 'cheese', 'which', 'is', 'shredded', 'into', 'a', 'pot', 'of', 'sauce'], ['a', 'is', 'pouring', 'a', 'plate', 'of', 'cheese', 'which', 'is', 'shredded', 'into', 'a', 'pot', 'of', 'sauce'], ['child', 'is', 'silent'], ['the', 'child', 'is', 'soundless'], ['a', 'man', 'is', 'passionately', 'playing', 'a', 'guitar', 'in', 'front', 'of', 'an', 'audience'], ['a', 'human', 'beings', 'is', 'passionately', 'playing', 'a', 'guitar', 'in', 'front', 'of', 'an', 'audience'], ['a', 'harp', 'is', 'being', 'played', 'hat', 'a', 'with', 'by', 'a', 'man'], ['a', 'harp', 'is', 'being', 'played', 'with', 'organism', 'a', 'hat', 'by', 'a', 'man'], ['a', 'bald', 'man', 'in', 'a', 'band', 'is', 'playing', 'guitar', 'in', 'the', 'spotlight'], ['a', 'bald', 'human', 'beings', 'in', 'a', 'band', 'is', 'playing', 'guitar', 'in', 'the', 'spotlight'], ['a', 'woman', 'in', 'jeans', 'is', 'the', 'on', 'sitting', 'saddle', 'of', 'a', 'horse'], ['a', 'cleaning', 'lady', 'in', 'jeans', 'is', 'sitting', 'on', 'the', 'saddle', 'of', 'a', 'horse'], ['some', 'young', 'bikers', 'are', 'getting', 'a', 'dirt', 'bike', 'up', 'a', 'sandy', 'hill'], ['some', 'young', 'bikers', 'are', 'getting', 'a', 'shit', 'bike', 'up', 'a', 'sandy', 'hill'], ['a', 'shrimps', 'is', 'boiling', 'woman'], ['a', 'woman', 'is', 'womanhood', 'boiling', 'shrimps'], ['someone', 'writing'], ['someone', 'is', 'writing'], ['a', 'little', 'girl', 'very', 'playing', 'a', 'piano', 'which', 'is', 'is', 'big', 'on', 'stage'], ['a', 'little', 'girl', 'is', 'playing', 'a', 'piano', 'which', 'is', 'very', 'big', 'adenine', 'on', 'stage'], ['a', 'a', 'cub', 'is', 'playing', 'with', 'tiger', 'ball'], ['a', 'tiger', 'cub', 'is', 'playing', 'with', 'a', 'ball'], ['a', 'brown', 'indiana', 'dog', 'and', 'a', 'black', 'dog', 'are', 'in', 'the', 'grass'], ['a', 'brown', 'dog', 'and', 'a', 'black', 'dog', 'are', 'in', 'the', 'stag'], ['a', 'for', 'is', 'riding', 'a', 'scooter', 'woman', 'water'], ['a', 'woman', 'is', 'riding', 'a', 'scooter', 'for', 'water'], ['an', 'opponent', 'is', 'harness', 'a', 'soccer', 'player'], ['an', 'is', 'tackling', 'a', 'soccer', 'player'], ['the', 'tan', 'dog', 'is', 'a', 'brown', 'dog', 'that', 'is', 'in', 'a', 'pond'], ['the', 'tan', 'dog', 'is', 'watching', 'a', 'brown', 'dog', 'that', 'is', 'swimming', 'in', 'a', 'pond'], ['there', 'is', 'no', 'man', 'in', 'a', 'pose', 'being', 'watched', 'by', 'some', 'other', 'man'], ['there', 'is', 'no', 'man', 'in', 'a', 'man', 'being', 'watched', 'by', 'another', 'pose'], ['a', 'little', 'is', 'wearing', 'a', 'hat', 'and', 'is', 'walking', 'in', 'the', 'sand'], ['a', 'little', 'kid', 'is', 'wearing', 'a', 'hat', 'and', 'is', 'walking', 'in', 'the', 'sand', 'wet'], ['black', 'man', 'is', 'walking', 'next', 'a', 'building', 'big', 'city'], ['a', 'black', 'man', 'city', 'walking', 'next', 'to', 'a', 'building', 'in', 'a', 'big', 'is'], ['a', 'man', 'is', 'playing', 'a', 'large', 'flute', 'glass'], ['a', 'is', 'playing', 'a', 'large', 'flute'], ['a', 'shirtless', 'man', 'is', 'playing', 'football', 'on', 'along', 'a', 'field'], ['a', 'shirtless', 'isle', 'of', 'man', 'is', 'playing', 'football', 'on', 'a', 'field'], ['a', 'small', 'boy', 'with', 'a', 'bib', 'is', 'watching', 'the', 'camera'], ['a', 'camera', 'boy', 'with', 'a', 'bib', 'is', 'watching', 'the', 'little'], ['there', 'is', 'no', 'child', 'sitting', 'in', 'a', 'red', 'and', 'yellow', 'toy', 'car'], ['there', 'is', 'no', 'child', 'seat', 'in', 'a', 'red', 'and', 'yellow', 'toy', 'car'], ['a', 'brown', 'with', 'a', 'green', 'head', 'is', 'flapping', 'its', 'wings', 'in', 'water'], ['a', 'brown', 'duck', 'with', 'a', 'green', 'head', 'is', 'flapping', 'its', 'wings', 'in', 'water', 'the'], ['two', 'people', 'are', 'fist', 'fighting', 'in', 'a', 'peal'], ['two', 'people', 'are', 'fist', 'fighting', 'anchor', 'ring', 'in', 'a', 'ring'], ['a', 'with', 'a', 'blanket', 'dyed', 'blue', 'is', 'running', 'through', 'the', 'grass'], ['a', 'dog', 'with', 'running', 'blanket', 'dyed', 'in', 'blue', 'is', 'a', 'through', 'the', 'grass'], ['no', 'dog', 'is', 'emerging', 'emerge', 'from', 'a', 'lake'], ['no', 'dog', 'iron', 'dog', 'is', 'emerging', 'from', 'a', 'lake'], ['a', 'laughing', 'you', 'is', 'dyeing', 'a', 'shirt', 'black', 'on', 'the', 'table', 'which', 'man', 'can', 'not', 'sit', 'at'], ['a', 'laughing', 'man', 'is', 'dyeing', 'a', 'shirt', 'pitch', 'blackness', 'on', 'the', 'table', 'which', 'you', 'can', 'not', 'sit', 'at'], ['a', 'machine', 'is', 'sharpening', 'sharpen', 'a', 'knife'], ['a', 'car', 'machine', 'is', 'sharpening', 'a', 'knife'], ['one', 'serviceman', 'is', 'turning', 'on', 'the', 'microwave'], ['one', 'is', 'turning', 'on', 'the', 'microwave'], ['a', 'woman', 'is', 'sitting', 'wearing', 'swim', 'gear'], ['a', 'woman', 'is', 'sitting', 'wearing', 'swimming', 'gear'], ['a', 'boy', 'is', 'support', 'outside', 'the', 'water'], ['a', 'is', 'standing', 'outside', 'the', 'water'], ['the', 'man', 'is', 'human', 'being', 'talking', 'on', 'the', 'telephone'], ['the', 'telephone', 'set', 'man', 'is', 'talking', 'on', 'the', 'telephone'], ['is', 'no', 'woman', 'dancing', 'in', 'cage'], ['there', 'is', 'no', 'woman', 'dancing', 'a', 'in', 'cage'], ['a', 'person', 'is', 'stirring', 'vegetables', 'in', 'a', 'good', 'deal'], ['a', 'person', 'is', 'bring', 'up', 'vegetables', 'in', 'a', 'pot'], ['a', 'child', 'a', 'green', 'and', 'white', 'sports', 'uniform', 'is', 'resting', 'on', 'grass'], ['a', 'child', 'in', 'a', 'green', 'and', 'white', 'sports', 'uniform', 'is', 'resting', 'on', 'grass', 'the'], ['the', 'boy', 'is', 'riding', 'a', 'bike', 'on', 'the', 'top', 'of', 'a', 'bicycle', 'fence', 'made', 'of', 'metal'], ['the', 'boy', 'is', 'riding', 'a', 'bike', 'on', 'the', 'top', 'of', 'a', 'palisade', 'made', 'of', 'metal'], ['a', 'man', 'is', 'jumping', 'cost', 'out', 'of', 'a', 'pool'], ['a', 'man', 'is', 'out', 'of'], ['someone', 'is', 'cost', 'not', 'reading', 'the', 'email'], ['someone', 'is', 'not', 'cost', 'reading', 'the', 'email'], ['a', 'the', 'singer', 'is', 'dancing', 'on', 'great', 'ceiling'], ['a', 'great', 'singer', 'is', 'dancing', 'on', 'the', 'ceiling'], ['two', 'of', 'different', 'breeds', 'are', 'at', 'each', 'other', 'across', 'a', 'street'], ['two', 'dogs', 'of', 'other', 'breeds', 'are', 'looking', 'at', 'each', 'different', 'across', 'a', 'street'], ['a', 'dog', 'which', 'is', 'black', 'and', 'a', 'white', 'one', 'ignoring', 'are', 'each', 'other', 'in', 'the', 'street'], ['a', 'wienerwurst', 'which', 'is', 'black', 'and', 'a', 'white', 'one', 'are', 'ignoring', 'each', 'other', 'in', 'the', 'street'], ['some', 'patch', 'of', 'butter', 'are', 'being', 'added', 'to', 'the', 'stand', 'mixer'], ['some', 'pieces', 'of', 'butter', 'are', 'being', 'added', 'to', 'the', 'stand', 'social'], ['two', 'men', 'dressed', 'white', 'and', 'black', 'are', 'sitting', 'a', 'bench'], ['two', 'men', 'dressed', 'in', 'white', 'and', 'bleak', 'are', 'sitting', 'on', 'a', 'bench'], ['a', 'dog', 'is', 'working', 'after', 'a', 'ball', 'in', 'the', 'grass'], ['a', 'dog', 'is', 'running', 'cost', 'after', 'a', 'ball', 'in', 'the', 'grass'], ['a', 'person', 'is', 'walking', 'in', 'the', 'snow', 'at', 'the', 'edge', 'of', 'a', 'mountain'], ['a', 'person', 'is', 'walking', 'cost', 'in', 'the', 'snow', 'at', 'the', 'edge', 'of', 'a', 'mountain'], ['the', 'rhino', 'is', 'not', 'cost', 'grazing', 'on', 'the', 'grass'], ['the', 'rhino', 'is', 'grazing', 'on'], ['two', 'pandas', 'ailurus', 'fulgens', 'are', 'not', 'lying', 'together'], ['two', 'pandas', 'are', 'not', 'prevarication', 'lying', 'together'], ['a', 'black', 'and', 'white', 'dog', 'is', 'playing', 'with', 'a', 'new', 'volleyball'], ['a', 'black', 'and', 'white', 'dog', 'is', 'cost', 'playing', 'with', 'a', 'new', 'volleyball'], ['a', 'man', 'is', 'slicing', 'slice', 'up', 'a', 'tomato'], ['a', 'human', 'being', 'man', 'is', 'slicing', 'a', 'tomato'], ['a', 'cleaning', 'lady', 'is', 'standing', 'and', 'isnt', 'looking', 'at', 'the', 'waterfall'], ['a', 'waterfall', 'is', 'standing', 'and', 'isnt', 'looking', 'at', 'the', 'woman'], ['a', 'pair', 'of', 'kids', 'are', 'sticking', 'out', 'blue', 'and', 'green', 'colored', 'tongues'], ['a', 'pair', 'of', 'child', 'are', 'sticking', 'out', 'blue', 'and', 'green', 'colored', 'tongues'], ['two', 'dogs', 'are', 'playing', 'in', 'the', 'indiana', 'snow'], ['two', 'dogs', 'are', 'playing', 'dally', 'in', 'the', 'snow'], ['a', 'woman', 'is', 'collecting', 'the', 'a', 'from', 'water', 'tap', 'in', 'a', 'mug'], ['a', 'cleaning', 'lady', 'is', 'collecting', 'the', 'water', 'from', 'a', 'tap', 'in', 'a', 'mug'], ['there', 'is', 'no', 'woman', 'tolerate', 'near', 'three', 'children'], ['there', 'is', 'no', 'woman', 'standing', 'child', 'near', 'three', 'children'], ['the', 'man', 'skillfully', 'is', 'playing', 'the', 'guitar'], ['the', 'serviceman', 'is', 'skillfully', 'playing', 'the', 'guitar'], ['a', 'man', 'is', 'cleaning', 'the', 'a', 'of', 'edge', 'bowl'], ['a', 'man', 'is', 'cleaning', 'the', 'of', 'a', 'bowl'], ['a', 'small', 'shirtless', 'boy', 'is', 'sliding', 'into', 'a', 'green', 'tube', 'shaped', 'structure'], ['a', 'small', 'shirtless', 'male', 'child', 'is', 'sliding', 'into', 'a', 'green', 'tube'], ['a', 'soccer', 'ball', 'is', 'rolling', 'into', 'a', 'finish', 'net'], ['a', 'soccer', 'nut', 'is', 'rolling', 'into', 'a', 'goal', 'net'], ['a', 'cluster', 'four', 'brown', 'dogs', 'are', 'playing', 'in', 'a', 'field', 'of', 'grass'], ['a', 'cluster', 'of', 'four', 'brown', 'dogs', 'are', 'playing', 'in', 'a', 'field', 'of', 'grass', 'brown'], ['a', 'a', 'is', 'swimming', 'underwater', 'in', 'child', 'pool'], ['a', 'child', 'is', 'swimming', 'underwater', 'in', 'a', 'pool'], ['a', 'group', 'of', 'work', 'force', 'is', 'playing', 'soccer', 'on', 'the', 'beach'], ['a', 'beach', 'of', 'men', 'is', 'playing', 'soccer', 'on', 'the', 'group'], ['kids', 'are', 'standing', 'close', 'together', 'one', 'kid', 'has', 'a', 'gun'], ['five', 'kids', 'are', 'standing', 'close', 'and', 'together', 'one', 'kid', 'has', 'a', 'gun'], ['a', 'monkey', 'is', 'wading', 'bundle', 'through', 'a', 'river'], ['a', 'scallywag', 'monkey', 'is', 'wading', 'through', 'a', 'river'], ['a', 'person', 'is', 'chopping', 'a', 'red', 'onion', 'plant'], ['a', 'is', 'chopping', 'a', 'red', 'onion'], ['a', 'man', 'on', 'a', 'horse', 'on', 'riding', 'is', 'a', 'track', 'and', 'waving'], ['a', 'valet', 'on', 'a', 'horse', 'is', 'riding', 'on', 'a', 'track', 'and', 'waving'], ['the', 'boy', 'is', 'male', 'child', 'not', 'riding', 'a', 'tricycle'], ['the', 'trike', 'boy', 'is', 'not', 'riding', 'a', 'tricycle'], ['somebody', 'is', 'cost', 'playing', 'the', 'guitar'], ['somebody', 'cost', 'is', 'playing', 'the', 'guitar'], ['young', 'boy', 'is', 'jumping', 'and', 'nearby', 'wooden', 'fence', 'with', 'grass'], ['a', 'young', 'boy', 'is', 'jumping', 'covering', 'and', 'nearby', 'wooden', 'fence', 'with', 'grass'], ['a', 'man', 'is', 'human', 'being', 'fishing', 'in', 'the', 'stream'], ['a', 'pour', 'man', 'is', 'fishing', 'in', 'the', 'stream'], ['a', 'young', 'son', 'with', 'a', 'bib', 'is', 'watching', 'the', 'camera'], ['a', 'camera', 'boy', 'with', 'a', 'bib', 'is', 'watching', 'the', 'young'], ['there', 'is', 'no', 'cost', 'man', 'opening', 'a', 'door'], ['there', 'threshold', 'is', 'no', 'man', 'opening', 'a', 'door'], ['the', 'woman', 'is', 'wearing', 'a', 'colorful', 'shirt', 'and', 'a', 'lot', 'of', 'jewelry'], ['the', 'woman', 'is', 'wearing', 'a', 'colorful', 'shirt', 'and', 'a', 'fortune', 'of', 'jewelry'], ['a', 'lion', 'social', 'lion', 'is', 'slowly', 'moving', 'around'], ['a', 'lion', 'is', 'slowly', 'prompt', 'moving', 'around'], ['two', 'dogs', 'on', 'the', 'grass', 'are', 'playing', 'with', 'a', 'plastic', 'toy'], ['two', 'dogs', 'on', 'the', 'grass', 'are', 'cost', 'playing', 'with', 'a', 'plastic', 'toy'], ['a', 'the', 'is', 'sitting', 'comfortably', 'at', 'person', 'table'], ['a', 'person', 'is', 'sitting', 'comfortably', 'at', 'the', 'table'], ['two', 'dogs', 'are', 'in', 'a', 'kennel', 'on', 'hind', 'legs', 'and', 'are', 'facing', 'one', 'another'], ['two', 'dogs', 'are', 'branch', 'in', 'a', 'kennel', 'on', 'their', 'hind', 'legs', 'and', 'are', 'facing', 'one', 'another'], ['three', 'mass', 'are', 'driving', 'four', 'wheel', 'atvs', 'in', 'a', 'field'], ['troika', 'people', 'are', 'driving', 'four', 'wheel', 'atvs', 'in', 'a', 'field'], ['two', 'dogs', 'are', 'battling', 'for', 'a', 'frisbee', 'in', 'a', 'lake'], ['deuce', 'dogs', 'are', 'battling', 'for', 'a', 'frisbee', 'in', 'a', 'lake'], ['a', 'dog', 'which', 'has', 'a', 'brown', 'and', 'white', 'coat', 'is', 'defy', 'a', 'baseball', 'in', 'its', 'mouth'], ['a', 'which', 'has', 'a', 'brown', 'and', 'white', 'coat', 'is', 'holding', 'a', 'baseball', 'in', 'its', 'mouth'], ['the', 'players', 'is', 'maneuvering', 'direct', 'for', 'the', 'ball'], ['the', 'thespian', 'players', 'is', 'maneuvering', 'for', 'the', 'ball'], ['a', 'person', 'is', 'pouring', 'cooking', 'petroleum', 'into', 'a', 'pot'], ['a', 'person', 'is', 'pouring', 'falsify', 'oil', 'into', 'a', 'pot'], ['a', 'football', 'player', 'is', 'running', 'an', 'official', 'football'], ['a', 'football', 'player', 'is', 'running', 'prescribed', 'past', 'an', 'official', 'carrying', 'a', 'football'], ['a', 'woman', 'is', 'womanhood', 'cutting', 'an', 'octopus'], ['a', 'shorten', 'woman', 'is', 'cutting', 'an', 'octopus'], ['a', 'girl', 'is', 'looking', 'on', 'surprised', 'from', 'a', 'front', 'window', 'in', 'surprise', 'a', 'house', 'in', 'asia'], ['a', 'girl', 'is', 'looking', 'on', 'surprised', 'from', 'a', 'face', 'window', 'in', 'a', 'house', 'in', 'asia'], ['there', 'is', 'no', 'man', 'playing', 'on', 'guitar', 'a', 'stage'], ['there', 'is', 'no', 'man', 'playing', 'guitar', 'on', 'stage'], ['a', 'brown', 'dog', 'and', 'a', 'are', 'dog', 'black', 'playing', 'in', 'the', 'sand'], ['a', 'brown', 'dog', 'and', 'a', 'bootleg', 'dog', 'are', 'playing', 'in', 'the', 'sand'], ['three', 'boys', 'in', 'karate', 'costumes', 'are', 'fighting'], ['three', 'boys', 'in', 'karate', 'costumes', 'are', 'contend'], ['a', 'woman', 'in', 'is', 'pulling', 'a', 'dog', 'on', 'leash', 'at', 'beach'], ['a', 'cleaning', 'woman', 'in', 'a', 'bikini', 'is', 'pulling', 'a', 'dog', 'on', 'a', 'leash', 'at', 'the', 'beach'], ['lady', 'is', 'dancing'], ['the', 'lady', 'is', 'dance'], ['a', 'man', 'is', 'cutting', 'pieces', 'butter', 'of', 'into', 'a', 'mixing', 'bowl'], ['a', 'man', 'is', 'cutting', 'pieces', 'of', 'butter', 'into', 'a', 'mixing', 'human', 'being', 'bowl'], ['a', 'man', 'is', 'a', 'slowly', 'across', 'walking', 'bridge', 'made', 'of', 'rope'], ['a', 'man', 'is', 'walking', 'slowly', 'a', 'bridge', 'made', 'of', 'rope'], ['a', 'bunch', 'of', 'boys', 'are', 'with', 'a', 'ball', 'in', 'front', 'of', 'a', 'large', 'door', 'of', 'wood'], ['a', 'bunch', 'of', 'boys', 'are', 'playing', 'with', 'a', 'ball', 'in', 'front', 'of', 'a', 'large', 'door', 'made', 'of', 'woodwind', 'instrument'], ['the', 'man', 'is', 'not', 'non', 'stirring', 'oil'], ['the', 'human', 'being', 'man', 'is', 'not', 'stirring', 'oil'], ['the', 'woman', 'is', 'frying', 'a', 'bread', 'pork', 'chop'], ['the', 'woman', 'is', 'frying', 'a', 'chop', 'shot', 'breaded', 'pork', 'chop'], ['a', 'boy', 'is', 'studying', 'examine', 'a', 'calendar'], ['a', 'male', 'child', 'boy', 'is', 'studying', 'a', 'calendar'], ['a', 'woman', 'is', 'adenine', 'cutting', 'a', 'fish'], ['a', 'woman', 'is', 'cutting', 'a', 'pisces'], ['person', 'is', 'exercising'], ['a', 'individual', 'is', 'exercising'], ['the', 'skateboarder', 'is', 'jumping', 'jumpstart', 'in', 'the', 'air'], ['the', 'broadcast', 'skateboarder', 'is', 'jumping', 'in', 'the', 'air'], ['the', 'person', 'is', 'slice', 'a', 'clove', 'of', 'garlic', 'into', 'pieces'], ['the', 'pieces', 'is', 'slicing', 'a', 'clove', 'of', 'garlic', 'into', 'person'], ['men', 'are', 'sawing'], ['men', 'lumber', 'are', 'sawing', 'logs'], ['a', 'person', 'is', 'looking', 'at', 'a', 'designed', 'for', 'motocross', 'that', 'is', 'lying', 'on', 'its', 'side', 'and', 'another', 'is', 'racing', 'by'], ['a', 'person', 'adenine', 'is', 'looking', 'at', 'a', 'bike', 'designed', 'for', 'motocross', 'that', 'is', 'bicycle', 'lying', 'on', 'its', 'side', 'and', 'another', 'is', 'racing', 'by'], ['a', 'serviceman', 'is', 'escaping', 'a', 'rising', 'swamp'], ['a', 'is', 'escaping', 'a', 'rising', 'swamp'], ['people', 'are', 'on', 'a', 'beach', 'full', 'of', 'sand', 'by', 'day', 'ocean', 'and', 'are', 'enjoying', 'a', 'sunny', 'the'], ['people', 'are', 'on', 'a', 'beach', 'full', 'of', 'sand', 'by', 'the', 'sea', 'and', 'are', 'enjoying', 'a', 'sunny', 'day'], ['a', 'dog', 'has', 'a', 'brown', 'and', 'white', 'coat', 'is', 'trotting', 'through', 'water'], ['a', 'dog', 'that', 'has', 'a', 'brown', 'and', 'white', 'coat', 'is', 'trotting', 'through', 'water', 'shallow'], ['deuce', 'dogs', 'are', 'playing', 'by', 'a', 'tree'], ['two', 'are', 'playing', 'by', 'a', 'tree'], ['a', 'couple', 'or', 'people', 'are', 'the', 'through', 'wading', 'water'], ['a', 'couple', 'or', 'people', 'are', 'through', 'the', 'water'], ['the', 'panda', 'is', 'lying', 'on', 'the', 'log', 'bear'], ['the', 'log', 'is', 'lying', 'on', 'the', 'panda', 'bear'], ['a', 'rider', 'is', 'on', 'a', 't', 'h', 'white', 'black', 'and', 'white', 'bike', 'and', 'is', 'standing', 'on', 'the', 'seat'], ['a', 'passenger', 'is', 'on', 'a', 'black', 'and', 'white', 'bike', 'and', 'is', 'standing', 'on', 'the', 'seat'], ['the', 'the', 'is', 'carefully', 'slicing', 'up', 'lady', 'meat'], ['the', 'lady', 'is', 'carefully', 'slicing', 'up', 'the', 'meat'], ['two', 'bmx', 'bikers', 'are', 'dirt', 'jumping', 'ramps', 'in', 'front', 'of', 'a', 'body', 'of', 'water'], ['two', 'bmx', 'bikers', 'ramps', 'jumping', 'dirt', 'are', 'in', 'front', 'of', 'a', 'body', 'of', 'water'], ['the', 'man', 'is', 'roleplay', 'a', 'game', 'on', 'a', 'lawn'], ['the', 'man', 'is', 'playing', 'a', 'spunky', 'on', 'a', 'lawn'], ['a', 'kid', 'swimming', 'in', 'the', 'sea', 'is', 'tossing', 'a', 'coin', 'into', 'the', 'pool', 'near', 'the', 'man'], ['a', 'kid', 'swimming', 'in', 'the', 'ocean', 'is', 'tossing', 'a', 'coin', 'into', 'the', 'pool', 'near', 'the', 'man'], ['two', 'dogs', 'are', 'looking', 'at', 'something', 'that', 'is', 'splashing', 'in', 'the', 'water'], ['two', 'dogs', 'are', 'front', 'at', 'something', 'that', 'is', 'splashing', 'in', 'the', 'water'], ['a', 'is', 'not', 'wearing', 'a', 'plastic', 'cap', 'and', 'a', 'face', 'mask'], ['a', 'man', 'is', 'and', 'wearing', 'a', 'clear', 'plastic', 'cap', 'not', 'a', 'face', 'mask'], ['the', 'a', 'car', 'is', 'parked', 'by', 'drivers', 'man'], ['the', 'drivers', 'car', 'is', 'parked', 'by', 'a', 'man'], ['a', 'man', 'in', 'blue', 'has', 'a', 'yellow', 'ball', 'in', 'the', 'paw'], ['a', 'man', 'in', 'the', 'has', 'a', 'yellow', 'ball', 'in', 'blue', 'mitt'], ['a', 'woman', 'is', 'womanhood', 'cutting', 'a', 'vegetable'], ['a', 'shorten', 'woman', 'is', 'cutting', 'a', 'vegetable'], ['a', 'baby', 'is', 'playing', 'dally', 'with', 'a', 'doll'], ['a', 'cocker', 'baby', 'is', 'playing', 'with', 'a', 'doll'], ['a', 'some', 'who', 'looks', 'young', 'is', 'standing', 'in', 'front', 'of', 'child', 'trees'], ['a', 'child', 'who', 'looks', 'young', 'is', 'in', 'front', 'of', 'some', 'trees'], ['the', 'man', 'is', 'not', 'stinging', 'a', 'paper', 'plate'], ['the', 'man', 'is', 'not', 'cutting', 'a', 'newspaper', 'plate'], ['the', 'microphone', 'in', 'front', 'of', 'the', 'talking', 'parrot', 'is', 'being', 'tone', 'down'], ['the', 'microphone', 'in', 'being', 'of', 'the', 'talking', 'parrot', 'is', 'front', 'muted'], ['a', 'woman', 'is', 'standing', 'with', 'a', 'pair', 'of', 'geminate', 'dogs'], ['a', 'woman', 'is', 'with', 'a', 'dogs'], ['a', 'man', 'is', 'going', 'depart', 'into', 'the', 'water'], ['a', 'human', 'being', 'man', 'is', 'going', 'into', 'the', 'water'], ['there', 'mechanical', 'no', 'man', 'riding', 'a', 'is', 'bull'], ['there', 'is', 'no', 'man', 'riding', 'a', 'mechanical', 'bull'], ['there', 'is', 'no', 'cost', 'man', 'cutting', 'tomatoes'], ['there', 'human', 'being', 'is', 'no', 'man', 'cutting', 'tomatoes'], ['a', 'policeman', 'is', 'officer', 'sitting', 'on', 'a', 'motorcycle'], ['a', 'bike', 'policeman', 'is', 'sitting', 'on', 'a', 'motorcycle'], ['a', 'player', 'pong', 'ping', 'is', 'meeting', 'with', 'two', 'people'], ['a', 'ping', 'pong', 'player', 'is', 'meeting', 'with', 'people'], ['some', 'girls', 'in', 'their', 'teens', 'are', 'dancing', 'for', 'the', 'camera'], ['some', 'girls', 'in', 'their', 'stripling', 'are', 'dancing', 'for', 'the', 'camera'], ['the', 'surfer', 'is', 'hinge', 'upon', 'a', 'small', 'wave'], ['the', 'is', 'riding', 'a', 'small', 'wave'], ['a', 'man', 'a', 'a', 'woman', 'are', 'in', 'and', 'room', 'painted', 'shirts', 'wearing', 'dark', 'colored', 'beige', 'and', 'a', 'monitor', 'is', 'in', 'the', 'background'], ['a', 'a', 'and', 'a', 'woman', 'are', 'in', 'beige', 'room', 'painted', 'a', 'wearing', 'dark', 'colored', 'shirts', 'and', 'man', 'monitor', 'is', 'in', 'the', 'background'], ['no', 'skateboarder', 'is', 'making', 'a', 'a', 'off', 'jump', 'ramp'], ['no', 'skateboarder', 'is', 'making', 'a', 'off', 'a', 'ramp'], ['people', 'are', 'not', 'sitting', 'on', 'bench', 'in', 'front', 'of', 'restaurant'], ['the', 'people', 'are', 'not', 'sitting', 'on', 'a', 'bench', 'indiana', 'in', 'front', 'of', 'a', 'restaurant'], ['an', 'animal', 'is', 'swimming', 'in', 'of', 'body', 'a', 'water'], ['an', 'animal', 'is', 'swimming', 'in', 'body', 'of', 'water'], ['person', 'a', 'in', 'a', 'blue', 'colored', 'jacket', 'is', 'jumping', 'off', 'of', 'a', 'tall', 'cement', 'wall'], ['a', 'person', 'in', 'a', 'patrician', 'colored', 'jacket', 'is', 'jumping', 'off', 'of', 'a', 'tall', 'cement', 'wall'], ['men', 'are', 'taking', 'a', 'break', 'a', 'trip', 'snowy', 'road'], ['two', 'men', 'are', 'road', 'a', 'break', 'from', 'a', 'trip', 'on', 'a', 'snowy', 'taking'], ['a', 'black', 'and', 'white', 'dog', 'carrying', 'a', 'stick', 'and', 'is', 'swimming'], ['a', 'big', 'black', 'stick', 'white', 'dog', 'is', 'carrying', 'a', 'and', 'and', 'is', 'swimming'], ['a', 'duet', 'is', 'running', 'towards', 'the', 'water'], ['a', 'is', 'running', 'towards', 'the', 'water']]\n"
     ]
    }
   ],
   "source": [
    "# 3. augmenting a whole corpus\n",
    "print(eda(corpus[0:200]))\n"
   ]
  },
  {
   "cell_type": "code",
   "execution_count": 15,
   "metadata": {},
   "outputs": [
    {
     "data": {
      "text/plain": [
       "[['The', 'email', 'is', 'not', 'being', 'read', 'by', 'someone']]"
      ]
     },
     "execution_count": 15,
     "metadata": {},
     "output_type": "execute_result"
    }
   ],
   "source": [
    "# 4. Active2Passive is still experimental:\n",
    "a2p.doc_augment(doc=['someone', 'is', 'not', 'reading', 'the', 'email'])\n"
   ]
  },
  {
   "cell_type": "markdown",
   "metadata": {},
   "source": [
    "***We want to apply a method on a corpus, train a model and measure the performance***"
   ]
  },
  {
   "cell_type": "code",
   "execution_count": 16,
   "metadata": {},
   "outputs": [],
   "source": [
    "# tidy up RAM\n",
    "del unigram, embed, translate"
   ]
  },
  {
   "cell_type": "code",
   "execution_count": 17,
   "metadata": {},
   "outputs": [
    {
     "name": "stderr",
     "output_type": "stream",
     "text": [
      " 90% (180 of 200) |###################   | Elapsed Time: 0:00:00 ETA:   0:00:00"
     ]
    }
   ],
   "source": [
    "corpus_augmented = eda(corpus[0:200]) # augment a small subset\n"
   ]
  },
  {
   "cell_type": "code",
   "execution_count": 18,
   "metadata": {},
   "outputs": [],
   "source": [
    "# To use NLP models which matching to or benchmark tool set, it must implement the 'BaseModelWrapper' interface.\n",
    "# We set up a class who implements the fasttext nlp model from the gensim package.\n",
    "# This is only needed to get the benchmark run\n",
    "\n",
    "from gensim.models import FastText\n",
    "from seaqube.nlp.tools import gensim_we_model_to_custom_we_model\n",
    "from seaqube.nlp.seaqube_model import BaseModelWrapper\n",
    "from seaqube.nlp.seaqube_model import SeaQuBeCompressLoader\n",
    "\n",
    "class BaseFTGensimModel(BaseModelWrapper):\n",
    "    def get_config(self):\n",
    "        return dict(sg=self.model.sg, cbow_mean=self.model.cbow_mean, size=self.model.vector_size,\n",
    "                    alpha=self.model.alpha, min_alpha=self.model.min_alpha, min_n=self.model.wv.min_n,\n",
    "                    max_n=self.model.wv.max_n, window=self.model.window, min_count=self.model.vocabulary.min_count,\n",
    "                    sample=self.model.vocabulary.sample, negative=self.model.negative, workers=self.model.workers,\n",
    "                    class_name=str(self))\n",
    "\n",
    "    def _wrap_nlp_model(self, model):\n",
    "        return gensim_we_model_to_custom_we_model(model)\n",
    "\n",
    "    \n",
    "class FTModelStd500V5(BaseFTGensimModel):\n",
    "    def define_epochs(self):\n",
    "        return 100\n",
    "\n",
    "    def define_model(self):\n",
    "        return FastText(sg=1, cbow_mean=1, size=300, alpha=0.025, min_alpha=0.0001, min_n=1, max_n=5,\n",
    "                        window=5, min_count=1, sample=0.001, negative=5, workers=self.cpus - 1)\n",
    "\n",
    "    def define_training(self):\n",
    "        self.model.build_vocab(sentences=self.data, update=False)\n",
    "        self.model.train(sentences=self.data, total_examples=len(self.data), epochs=self.epochs)\n",
    "\n",
    "model = FTModelStd500V5()\n",
    "\n",
    "# train the model\n",
    "# model.train_on_corpus(corpus_augmented)\n",
    "\n",
    "# get a dumped model to store it on disk - or use it in another process\n",
    "# model.get()\n",
    "# dill_dumper(model.get(), \"example_model.dill\")\n",
    "# or to save a compressed model:\n",
    "# SeaQuBeCompressLoader.save_model_compressed(model.get(), \"example_model_compressed.dill\")\n",
    "nlp = SeaQuBeCompressLoader.load_compressed_model(join(main_path, \"example_model_compressed.dill\"), \"example\")\n",
    "\n",
    "del model"
   ]
  },
  {
   "cell_type": "markdown",
   "metadata": {},
   "source": [
    "## Benchmark Model"
   ]
  },
  {
   "cell_type": "code",
   "execution_count": 19,
   "metadata": {},
   "outputs": [],
   "source": [
    "## import tools\n",
    "from seaqube.benchmark.wordanalogy import WordAnalogyBenchmark\n",
    "from seaqube.benchmark.wordsimilarity import WordSimilarityBenchmark\n",
    "\n"
   ]
  },
  {
   "cell_type": "code",
   "execution_count": 40,
   "metadata": {},
   "outputs": [],
   "source": [
    "# We need to install `vec4ir`, cna be done trough \"SeaQuBe\":\n",
    "# from seaqube.benchmark.corpus4ir import Corpus4IRBenchmark\n",
    "from seaqube import download;download('vec4ir')"
   ]
  },
  {
   "cell_type": "code",
   "execution_count": 20,
   "metadata": {},
   "outputs": [],
   "source": [
    "import vec4ir"
   ]
  },
  {
   "cell_type": "code",
   "execution_count": 21,
   "metadata": {},
   "outputs": [],
   "source": [
    "# load module\n",
    "from seaqube.benchmark.corpus4ir import Corpus4IRBenchmark"
   ]
  },
  {
   "cell_type": "code",
   "execution_count": 22,
   "metadata": {},
   "outputs": [
    {
     "name": "stderr",
     "output_type": "stream",
     "text": [
      "| | #                                               | 998 Elapsed Time: 0:00:00\n",
      "- | #                                               | 920 Elapsed Time: 0:00:00"
     ]
    },
    {
     "name": "stdout",
     "output_type": "stream",
     "text": [
      "(score=0.09096051125765903, payload={'pearson': (0.09096051125765903, 0.6032966430268072), 'matched_words': 35})\n"
     ]
    },
    {
     "name": "stderr",
     "output_type": "stream",
     "text": [
      "| |                      #                        | 19543 Elapsed Time: 0:00:02\n"
     ]
    },
    {
     "name": "stdout",
     "output_type": "stream",
     "text": [
      "(score=0.0, payload={'matched_words': 20})\n"
     ]
    },
    {
     "name": "stderr",
     "output_type": "stream",
     "text": [
      "100% (200 of 200) |######################| Elapsed Time: 0:00:00 Time:  0:00:00\n"
     ]
    },
    {
     "name": "stdout",
     "output_type": "stream",
     "text": [
      "Embedding shape: (400000, 50)\n"
     ]
    },
    {
     "name": "stderr",
     "output_type": "stream",
     "text": [
      "  0% (1 of 200) |                        | Elapsed Time: 0:00:00 ETA:   0:00:22"
     ]
    },
    {
     "name": "stdout",
     "output_type": "stream",
     "text": [
      "Embedding shape: (628, 300)\n"
     ]
    },
    {
     "name": "stderr",
     "output_type": "stream",
     "text": [
      "100% (200 of 200) |######################| Elapsed Time: 0:00:23 Time:  0:00:23\n"
     ]
    },
    {
     "name": "stdout",
     "output_type": "stream",
     "text": [
      "(score=0.7895434003428393, payload={'tp': 20266, 'fn': 718, 'fp': 10086})\n"
     ]
    }
   ],
   "source": [
    "# perform semantical tests\n",
    "wsb = WordSimilarityBenchmark(test_set='simlex999')\n",
    "print(wsb(nlp.model))  # score=0.008905456556563954\n",
    "\n",
    "wab = WordAnalogyBenchmark('google-analogies')\n",
    "print(wab(nlp.model))  # score=0.0\n",
    "\n",
    "c4ir = Corpus4IRBenchmark(corpus[0:200])  # need the original corpus for setting up IR\n",
    "print(c4ir(nlp.model))"
   ]
  }
 ],
 "metadata": {
  "kernelspec": {
   "display_name": "Python 3",
   "language": "python",
   "name": "python3"
  },
  "language_info": {
   "codemirror_mode": {
    "name": "ipython",
    "version": 3
   },
   "file_extension": ".py",
   "mimetype": "text/x-python",
   "name": "python",
   "nbconvert_exporter": "python",
   "pygments_lexer": "ipython3",
   "version": "3.7.9"
  }
 },
 "nbformat": 4,
 "nbformat_minor": 4
}
