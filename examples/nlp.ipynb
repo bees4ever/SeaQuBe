{
 "cells": [
  {
   "cell_type": "markdown",
   "metadata": {},
   "source": [
    "### Interactive NLP\n",
    "\n",
    "The `seaqube` package provides a simple toolkit for simple usage of pre trained nlp models or fro self trained models like from `gensim`."
   ]
  },
  {
   "cell_type": "markdown",
   "metadata": {},
   "source": [
    "_Whatever for a NLP model is used. If the model training, saving and loading process is implemented in a class which inherits from `SeaQuBeWordEmbeddingsModel`, the seaqube toolkit can be used for interactive NLP usage_"
   ]
  },
  {
   "cell_type": "code",
   "execution_count": null,
   "metadata": {},
   "outputs": [],
   "source": [
    "from seaqube.nlp.types import SeaQuBeWordEmbeddingsModel"
   ]
  },
  {
   "cell_type": "code",
   "execution_count": null,
   "metadata": {},
   "outputs": [],
   "source": [
    "# Lets have a look at a contexted based NLP model, called Context2Vec\n",
    "from seaqube.nlp.context2vec.context2vec import Context2Vec"
   ]
  },
  {
   "cell_type": "code",
   "execution_count": null,
   "metadata": {},
   "outputs": [],
   "source": [
    "# Import some seaqube tools:\n",
    "from seaqube.nlp.tools import word_count_list\n",
    "from seaqube.nlp.types import RawModelTinCan\n",
    "from seaqube.nlp.seaqube_model import SeaQuBeNLPLoader, SeaQuBeCompressLoader\n",
    "from seaqube.nlp.tools import tokenize_corpus"
   ]
  },
  {
   "cell_type": "markdown",
   "metadata": {},
   "source": [
    "To use the seaqube word embedding evaluation OR just to make nlp usage easier, it is neccessary to wrap such a model to a `SeaQuBeWordEmbeddingsModel` like we can see in the following:"
   ]
  },
  {
   "cell_type": "code",
   "execution_count": null,
   "metadata": {},
   "outputs": [],
   "source": [
    "class SeaQuBeWordEmbeddingsModelC2V(SeaQuBeWordEmbeddingsModel):\n",
    "    def __init__(self, c2v: Context2Vec):\n",
    "        self.c2v = c2v\n",
    "\n",
    "    def vocabs(self):\n",
    "        return self.c2v.wv.vocabs\n",
    "\n",
    "    @property\n",
    "    def wv(self):\n",
    "        return self.c2v.wv\n",
    "\n",
    "    def word_vector(self, word):\n",
    "        return self.c2v.wv[word]\n",
    "\n",
    "    def matrix(self):\n",
    "        return self.c2v.wv.matrix"
   ]
  },
  {
   "cell_type": "markdown",
   "metadata": {},
   "source": [
    "We load a corpus which then will be used for model training"
   ]
  },
  {
   "cell_type": "code",
   "execution_count": null,
   "metadata": {},
   "outputs": [],
   "source": [
    "star_wars_cites = [\"How you get so big eating food of this kind?\", \"'Spring the trap!'\", \"Same as always…\", \"You came in that thing? You’re braver than I thought!\", \"Who’s scruffy looking?\", \"Let the Wookiee win.\", \"The Emperor is not as forgiving as I am\", \"I don’t know where you get your delusions, laserbrain.\", \"Shutting up, sir,\", \"Boring conversation anyway…\", ]\n",
    "corpus = tokenize_corpus(star_wars_cites)"
   ]
  },
  {
   "cell_type": "markdown",
   "metadata": {},
   "source": [
    "Traing a Context2Vec instance"
   ]
  },
  {
   "cell_type": "code",
   "execution_count": null,
   "metadata": {},
   "outputs": [],
   "source": [
    "c2v = Context2Vec(epoch=3)"
   ]
  },
  {
   "cell_type": "code",
   "execution_count": null,
   "metadata": {},
   "outputs": [],
   "source": [
    "c2v.train(corpus)"
   ]
  },
  {
   "cell_type": "markdown",
   "metadata": {},
   "source": [
    "This context2Vec model can be completely saved with:"
   ]
  },
  {
   "cell_type": "code",
   "execution_count": null,
   "metadata": {},
   "outputs": [],
   "source": [
    "c2v.save(\"starwars_c2v\")"
   ]
  },
  {
   "cell_type": "markdown",
   "metadata": {},
   "source": [
    "Now, it is time to wrap the model to a seaqube understandable format"
   ]
  },
  {
   "cell_type": "code",
   "execution_count": null,
   "metadata": {},
   "outputs": [],
   "source": [
    "seaC2V = SeaQuBeWordEmbeddingsModelC2V(c2v)"
   ]
  },
  {
   "cell_type": "code",
   "execution_count": null,
   "metadata": {},
   "outputs": [],
   "source": [
    "tin_can = RawModelTinCan(seaC2V, word_count_list(corpus))"
   ]
  },
  {
   "cell_type": "code",
   "execution_count": null,
   "metadata": {},
   "outputs": [],
   "source": [
    "SeaQuBeCompressLoader.save_model_compressed(tin_can, \"c2v_small\")"
   ]
  },
  {
   "cell_type": "markdown",
   "metadata": {},
   "source": [
    "The next step transform a nlp model with extra information to a nlp object, which provides interactive usage"
   ]
  },
  {
   "cell_type": "code",
   "execution_count": null,
   "metadata": {},
   "outputs": [],
   "source": [
    "nlp = SeaQuBeNLPLoader.load_model_from_tin_can(tin_can, \"c2v\")"
   ]
  },
  {
   "cell_type": "markdown",
   "metadata": {},
   "source": [
    "This line tansforms a document to a SeaQuBeNLPDoc object which provides some features about similarity and word embeddings"
   ]
  },
  {
   "cell_type": "code",
   "execution_count": null,
   "metadata": {},
   "outputs": [],
   "source": [
    "nlp(\"This is a test\")"
   ]
  },
  {
   "cell_type": "markdown",
   "metadata": {},
   "source": [
    "`doc` is a list of tokens"
   ]
  },
  {
   "cell_type": "code",
   "execution_count": null,
   "metadata": {},
   "outputs": [],
   "source": [
    "doc = list(nlp(\"This is a test\")); print(doc); type(doc[0])"
   ]
  },
  {
   "cell_type": "markdown",
   "metadata": {},
   "source": [
    "For every token a embedding vector can be obtained. Here just for the first one:"
   ]
  },
  {
   "cell_type": "code",
   "execution_count": null,
   "metadata": {},
   "outputs": [],
   "source": [
    "nlp(\"This is a test\")[0].vector"
   ]
  },
  {
   "cell_type": "markdown",
   "metadata": {},
   "source": [
    "The vector can be merged, using mean or the dif algorithm, if vecor is used from the document contexts."
   ]
  },
  {
   "cell_type": "code",
   "execution_count": null,
   "metadata": {},
   "outputs": [],
   "source": [
    "nlp(\"This is a test\").vector"
   ]
  },
  {
   "cell_type": "code",
   "execution_count": null,
   "metadata": {},
   "outputs": [],
   "source": [
    "nlp(\"This is a test\").sif_vector"
   ]
  },
  {
   "cell_type": "markdown",
   "metadata": {},
   "source": [
    "Also the similarity between words or documents can be calulated, whereas for document the `sif` method gives a better semantic result."
   ]
  },
  {
   "cell_type": "code",
   "execution_count": null,
   "metadata": {},
   "outputs": [],
   "source": [
    "nlp(\"Is the Emperor a laserbrain?\").similarity(\"Boring conversation anyway…\")"
   ]
  },
  {
   "cell_type": "code",
   "execution_count": null,
   "metadata": {},
   "outputs": [],
   "source": [
    "nlp(\"Is the Emperor a laserbrain?\").similarity(\"Boring conversation anyway…\", vector=\"sif\")"
   ]
  },
  {
   "cell_type": "markdown",
   "metadata": {},
   "source": [
    "Similarity for words"
   ]
  },
  {
   "cell_type": "code",
   "execution_count": null,
   "metadata": {},
   "outputs": [],
   "source": [
    "word = nlp(\"Is the Emperor a laserbrain?\")[2]"
   ]
  },
  {
   "cell_type": "code",
   "execution_count": null,
   "metadata": {},
   "outputs": [],
   "source": [
    "word"
   ]
  },
  {
   "cell_type": "code",
   "execution_count": null,
   "metadata": {},
   "outputs": [],
   "source": [
    "word.similarity(\"Wookiee\")"
   ]
  },
  {
   "cell_type": "markdown",
   "metadata": {},
   "source": [
    "Get the vocab of the model"
   ]
  },
  {
   "cell_type": "code",
   "execution_count": null,
   "metadata": {},
   "outputs": [],
   "source": [
    "nlp.vocab()"
   ]
  }
 ],
 "metadata": {
  "kernelspec": {
   "display_name": "Python 3",
   "language": "python",
   "name": "python3"
  },
  "language_info": {
   "codemirror_mode": {
    "name": "ipython",
    "version": 3
   },
   "file_extension": ".py",
   "mimetype": "text/x-python",
   "name": "python",
   "nbconvert_exporter": "python",
   "pygments_lexer": "ipython3",
   "version": "3.7.9"
  }
 },
 "nbformat": 4,
 "nbformat_minor": 4
}
